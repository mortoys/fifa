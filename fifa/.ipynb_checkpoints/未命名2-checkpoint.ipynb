{
 "cells": [
  {
   "cell_type": "code",
   "execution_count": 1,
   "id": "fdab23fe",
   "metadata": {},
   "outputs": [],
   "source": [
    "from getCSOdds import getFile, getData, getHalfResult\n",
    "import pandas as pd\n",
    "import numpy as np"
   ]
  },
  {
   "cell_type": "code",
   "execution_count": 2,
   "id": "9f4c2cfb",
   "metadata": {},
   "outputs": [],
   "source": [
    "dd = pd.read_csv('fifa2022.csv')"
   ]
  },
  {
   "cell_type": "code",
   "execution_count": 3,
   "id": "f0125fe1",
   "metadata": {},
   "outputs": [],
   "source": [
    "import os\n",
    "fl = pd.Series(list(set(os.listdir('./cs2')) & set(os.listdir('./cs3')) & set(os.listdir('./cs4'))))\\\n",
    ".apply(lambda s: s[:8])\n",
    "dd['usable'] = dd['xeid'].isin(fl)"
   ]
  },
  {
   "cell_type": "code",
   "execution_count": 5,
   "id": "b85251e6",
   "metadata": {},
   "outputs": [],
   "source": [
    "# a = dd[dd['usable']]['xeid'].apply(lambda s: getHalfResult(getFile(s, 3)))\n",
    "# dd['s1'] = a.apply(lambda s: s[1])\n",
    "# dd['s2'] = a.apply(lambda s: s[2])"
   ]
  },
  {
   "cell_type": "code",
   "execution_count": null,
   "id": "b1ea781d",
   "metadata": {},
   "outputs": [],
   "source": [
    "# dd[['xeid','date','time','score','s1','s2','win','tie','los','result','usable','team1','team2']]\\\n",
    "# .to_csv('fifa2022.csv', index=None)"
   ]
  },
  {
   "cell_type": "code",
   "execution_count": 19,
   "id": "5b4b4f1f",
   "metadata": {},
   "outputs": [],
   "source": [
    "b = dd[dd['usable']]['xeid'].iloc[:3].apply(lambda s: getData(getFile(s, 2)))"
   ]
  },
  {
   "cell_type": "code",
   "execution_count": 23,
   "id": "dd4d1a4e",
   "metadata": {},
   "outputs": [
    {
     "data": {
      "text/plain": [
       "0          0        1\n",
       "0   1:0     5.09\n",
       "1   2:0     ...\n",
       "1          0        1\n",
       "0   1:0     6.67\n",
       "1   2:0     ...\n",
       "2          0        1\n",
       "0   1:0     6.11\n",
       "1   2:0     ...\n",
       "Name: xeid, dtype: object"
      ]
     },
     "execution_count": 23,
     "metadata": {},
     "output_type": "execute_result"
    }
   ],
   "source": [
    "b"
   ]
  },
  {
   "cell_type": "code",
   "execution_count": 13,
   "id": "6986d3ec",
   "metadata": {},
   "outputs": [],
   "source": []
  },
  {
   "cell_type": "code",
   "execution_count": 17,
   "id": "34ce62fa",
   "metadata": {},
   "outputs": [],
   "source": []
  },
  {
   "cell_type": "code",
   "execution_count": 45,
   "id": "0fa79a37",
   "metadata": {},
   "outputs": [
    {
     "data": {
      "text/plain": [
       "(0.6526194695658655, 0.40755525881924937, 0.7965234876275661)"
      ]
     },
     "execution_count": 45,
     "metadata": {},
     "output_type": "execute_result"
    }
   ],
   "source": [
    "data = getData(getFile(dd['xeid'].iloc[3], 3))\n",
    "data[1] = data[1].astype('float')\n",
    "data['s1'] = data[0].apply(lambda s: int(s.split(':')[0]))\n",
    "data['s2'] = data[0].apply(lambda s: int(s.split(':')[1]))\n",
    "\n",
    "ratio = 1/(1 / data[1]).sum()\n",
    "p1 = (1 / data[data['s1'] == 0][1] * ratio).sum()\n",
    "p2 = (1 / data[data['s2'] == 0][1] * ratio).sum()\n",
    "\n",
    "mu1 = -np.log(p1)\n",
    "mu2 = -np.log(p2)\n",
    "mu1, mu2, ratio"
   ]
  },
  {
   "cell_type": "code",
   "execution_count": 46,
   "id": "2b2928dd",
   "metadata": {},
   "outputs": [
    {
     "data": {
      "text/plain": [
       "(1.4765984605713347, 0.9150928242749742, 0.7464551790532379)"
      ]
     },
     "execution_count": 46,
     "metadata": {},
     "output_type": "execute_result"
    }
   ],
   "source": [
    "data = getData(getFile(dd['xeid'].iloc[3], 2))\n",
    "data[1] = data[1].astype('float')\n",
    "data['s1'] = data[0].apply(lambda s: int(s.split(':')[0]))\n",
    "data['s2'] = data[0].apply(lambda s: int(s.split(':')[1]))\n",
    "\n",
    "ratio = 1/(1 / data[1]).sum()\n",
    "p1 = (1 / data[data['s1'] == 0][1] * ratio).sum()\n",
    "p2 = (1 / data[data['s2'] == 0][1] * ratio).sum()\n",
    "\n",
    "mu1 = -np.log(p1)\n",
    "mu2 = -np.log(p2)\n",
    "mu1, mu2, ratio"
   ]
  },
  {
   "cell_type": "code",
   "execution_count": 47,
   "id": "8becd4f6",
   "metadata": {},
   "outputs": [
    {
     "data": {
      "text/plain": [
       "(0.9258654187826337, 0.5723880390253545, 0.7643053191400953)"
      ]
     },
     "execution_count": 47,
     "metadata": {},
     "output_type": "execute_result"
    }
   ],
   "source": [
    "data = getData(getFile(dd['xeid'].iloc[3], 4))\n",
    "data[1] = data[1].astype('float')\n",
    "data['s1'] = data[0].apply(lambda s: int(s.split(':')[0]))\n",
    "data['s2'] = data[0].apply(lambda s: int(s.split(':')[1]))\n",
    "\n",
    "ratio = 1/(1 / data[1]).sum()\n",
    "p1 = (1 / data[data['s1'] == 0][1] * ratio).sum()\n",
    "p2 = (1 / data[data['s2'] == 0][1] * ratio).sum()\n",
    "\n",
    "mu1 = -np.log(p1)\n",
    "mu2 = -np.log(p2)\n",
    "mu1, mu2, ratio"
   ]
  },
  {
   "cell_type": "code",
   "execution_count": 16,
   "id": "b27bcb77",
   "metadata": {},
   "outputs": [
    {
     "data": {
      "text/plain": [
       "1.697"
      ]
     },
     "execution_count": 16,
     "metadata": {},
     "output_type": "execute_result"
    }
   ],
   "source": [
    "0.714 + 0.983"
   ]
  },
  {
   "cell_type": "code",
   "execution_count": 17,
   "id": "e831576a",
   "metadata": {},
   "outputs": [
    {
     "data": {
      "text/plain": [
       "0.8054"
      ]
     },
     "execution_count": 17,
     "metadata": {},
     "output_type": "execute_result"
    }
   ],
   "source": [
    "0.3506 + 0.4548"
   ]
  }
 ],
 "metadata": {
  "kernelspec": {
   "display_name": "Python 3 (ipykernel)",
   "language": "python",
   "name": "python3"
  },
  "language_info": {
   "codemirror_mode": {
    "name": "ipython",
    "version": 3
   },
   "file_extension": ".py",
   "mimetype": "text/x-python",
   "name": "python",
   "nbconvert_exporter": "python",
   "pygments_lexer": "ipython3",
   "version": "3.9.12"
  }
 },
 "nbformat": 4,
 "nbformat_minor": 5
}
